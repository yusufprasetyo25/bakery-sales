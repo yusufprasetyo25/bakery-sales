{
 "cells": [
  {
   "cell_type": "markdown",
   "metadata": {},
   "source": [
    "# Bakery Sales Dataset Analysis"
   ]
  },
  {
   "cell_type": "markdown",
   "metadata": {},
   "source": [
    "By analyzing the dataset [here](https://www.kaggle.com/sulmansarwar/transactions-from-a-bakery), we conclude that the *best business plans* for this bakery are:\n",
    "1. We focus on keeping top 9 best-selling products and products with longer lifespan. Items that have shorter lifespan will be discounted after rush hours at 5 p.m.\n",
    "2. We will evaluate and generate new marketing plan to attract more segments of customers. One possible marketing strategy is to implement first-time customer program.\n",
    "3. We need to prepare more items on Fridays, Sundays, and especially Saturdays. Also, It is better to go with risk-taker approach by preparing more items in the store every day, since we are going to do some serious marketing from now on.\n",
    "4. We need to prepare for rush hours from 7 a.m. to 5 p.m., especially 9 a.m. to 3 p.m.\n",
    "5. We can optimize our bakery sales by making Food \\& Beverage dicounts, e.g. for Bread-Tea and Coffee-Cookies combination. Also, we should consider making family packages and discounts."
   ]
  },
  {
   "cell_type": "markdown",
   "metadata": {},
   "source": [
    "## 1. Dataset Context\n",
    "\n",
    "This is sales data of a bakery, we can access the data [here](https://www.kaggle.com/sulmansarwar/transactions-from-a-bakery). According to the source, this dataset is:\n",
    "\n",
    "> The dataset consists of 21293 observations from a bakery. The data file contains four variables, Date, Time, Transaction ID and Item. Transaction ID ranges from 1 through 9684. However, there are some skipped numbers in Transaction IDs. Also, there are duplicated entries, as shown in observation # 2 and \\#3. Besides, the Item contains \"Adjustment\", \"NONE\", and \"Afternoon with the baker\". While the entries of \"Adjustment\" and \"NONE\" are straight forward, \"Afternoon with the baker\" may be a real purchase.\n",
    "\n",
    "But first, we need to import relevant packages and the dataset."
   ]
  },
  {
   "cell_type": "code",
   "execution_count": 146,
   "metadata": {
    "hide_input": false
   },
   "outputs": [],
   "source": [
    "import numpy as np # linear algebra\n",
    "import matplotlib.pyplot as plt # to make plots\n",
    "plt.rcParams.update({'font.size': 14}) # to change plots' font size\n",
    "\n",
    "import seaborn as sns # statistical data visualization\n",
    "import pandas as pd # data processing, I/O csv using pd.read_csv()\n",
    "import warnings\n",
    "warnings.filterwarnings(\"ignore\") # hide warnings"
   ]
  },
  {
   "cell_type": "code",
   "execution_count": 147,
   "metadata": {},
   "outputs": [
    {
     "data": {
      "text/html": [
       "<div>\n",
       "<style scoped>\n",
       "    .dataframe tbody tr th:only-of-type {\n",
       "        vertical-align: middle;\n",
       "    }\n",
       "\n",
       "    .dataframe tbody tr th {\n",
       "        vertical-align: top;\n",
       "    }\n",
       "\n",
       "    .dataframe thead th {\n",
       "        text-align: right;\n",
       "    }\n",
       "</style>\n",
       "<table border=\"1\" class=\"dataframe\">\n",
       "  <thead>\n",
       "    <tr style=\"text-align: right;\">\n",
       "      <th></th>\n",
       "      <th>Date</th>\n",
       "      <th>Time</th>\n",
       "      <th>Transaction</th>\n",
       "      <th>Item</th>\n",
       "    </tr>\n",
       "  </thead>\n",
       "  <tbody>\n",
       "    <tr>\n",
       "      <th>0</th>\n",
       "      <td>2016-10-30</td>\n",
       "      <td>09:58:11</td>\n",
       "      <td>1</td>\n",
       "      <td>Bread</td>\n",
       "    </tr>\n",
       "    <tr>\n",
       "      <th>1</th>\n",
       "      <td>2016-10-30</td>\n",
       "      <td>10:05:34</td>\n",
       "      <td>2</td>\n",
       "      <td>Scandinavian</td>\n",
       "    </tr>\n",
       "    <tr>\n",
       "      <th>2</th>\n",
       "      <td>2016-10-30</td>\n",
       "      <td>10:05:34</td>\n",
       "      <td>2</td>\n",
       "      <td>Scandinavian</td>\n",
       "    </tr>\n",
       "    <tr>\n",
       "      <th>3</th>\n",
       "      <td>2016-10-30</td>\n",
       "      <td>10:07:57</td>\n",
       "      <td>3</td>\n",
       "      <td>Hot chocolate</td>\n",
       "    </tr>\n",
       "    <tr>\n",
       "      <th>4</th>\n",
       "      <td>2016-10-30</td>\n",
       "      <td>10:07:57</td>\n",
       "      <td>3</td>\n",
       "      <td>Jam</td>\n",
       "    </tr>\n",
       "  </tbody>\n",
       "</table>\n",
       "</div>"
      ],
      "text/plain": [
       "         Date      Time  Transaction           Item\n",
       "0  2016-10-30  09:58:11            1          Bread\n",
       "1  2016-10-30  10:05:34            2   Scandinavian\n",
       "2  2016-10-30  10:05:34            2   Scandinavian\n",
       "3  2016-10-30  10:07:57            3  Hot chocolate\n",
       "4  2016-10-30  10:07:57            3            Jam"
      ]
     },
     "execution_count": 147,
     "metadata": {},
     "output_type": "execute_result"
    }
   ],
   "source": [
    "df = pd.read_csv('BreadBasket_DMS.csv') # importing csv file\n",
    "df.head() # showing first five entries"
   ]
  },
  {
   "cell_type": "markdown",
   "metadata": {},
   "source": [
    "As stated before, transaction with index 1 and 2 have the same entries. Let's see how many duplicate entries are there"
   ]
  },
  {
   "cell_type": "code",
   "execution_count": 148,
   "metadata": {},
   "outputs": [
    {
     "data": {
      "text/plain": [
       "False    19640\n",
       "True      1653\n",
       "dtype: int64"
      ]
     },
     "execution_count": 148,
     "metadata": {},
     "output_type": "execute_result"
    }
   ],
   "source": [
    "df.duplicated().value_counts()"
   ]
  },
  {
   "cell_type": "markdown",
   "metadata": {},
   "source": [
    "**Important assumption**: Since there are so many duplicate entries, We are going to **assume that duplicate entries are two valid entries**. Those two entries mean someone is buying two products of the same type."
   ]
  },
  {
   "cell_type": "markdown",
   "metadata": {},
   "source": [
    "## 2. Overview of the Dataset\n",
    "\n",
    "Our dataset consists of 21293 columns of transactions from 2016-10-30 to 2017-04-09 with details as follows:\n",
    "- `Date`: date of the transaction in *yyyy-mm-dd* format\n",
    "- `Time`: time when transaction occurs in *24-hour* format\n",
    "- `Transaction`: identifier for single transaction because a transaction can take several entries (buying more than one product in a transaction)\n",
    "- `Item`: name of the product that is being sold in particular entry (row)"
   ]
  },
  {
   "cell_type": "code",
   "execution_count": 149,
   "metadata": {},
   "outputs": [
    {
     "name": "stdout",
     "output_type": "stream",
     "text": [
      "<class 'pandas.core.frame.DataFrame'>\n",
      "RangeIndex: 21293 entries, 0 to 21292\n",
      "Data columns (total 4 columns):\n",
      " #   Column       Non-Null Count  Dtype \n",
      "---  ------       --------------  ----- \n",
      " 0   Date         21293 non-null  object\n",
      " 1   Time         21293 non-null  object\n",
      " 2   Transaction  21293 non-null  int64 \n",
      " 3   Item         21293 non-null  object\n",
      "dtypes: int64(1), object(3)\n",
      "memory usage: 665.5+ KB\n"
     ]
    }
   ],
   "source": [
    "df.info()"
   ]
  },
  {
   "cell_type": "markdown",
   "metadata": {},
   "source": [
    "Next, we are going to look for **distinct products that are sold** in this shop, from the most popular product"
   ]
  },
  {
   "cell_type": "code",
   "execution_count": 150,
   "metadata": {},
   "outputs": [
    {
     "data": {
      "text/html": [
       "<div>\n",
       "<style scoped>\n",
       "    .dataframe tbody tr th:only-of-type {\n",
       "        vertical-align: middle;\n",
       "    }\n",
       "\n",
       "    .dataframe tbody tr th {\n",
       "        vertical-align: top;\n",
       "    }\n",
       "\n",
       "    .dataframe thead th {\n",
       "        text-align: right;\n",
       "    }\n",
       "</style>\n",
       "<table border=\"1\" class=\"dataframe\">\n",
       "  <thead>\n",
       "    <tr style=\"text-align: right;\">\n",
       "      <th></th>\n",
       "      <th>Item</th>\n",
       "    </tr>\n",
       "  </thead>\n",
       "  <tbody>\n",
       "    <tr>\n",
       "      <th>Coffee</th>\n",
       "      <td>5471</td>\n",
       "    </tr>\n",
       "    <tr>\n",
       "      <th>Bread</th>\n",
       "      <td>3325</td>\n",
       "    </tr>\n",
       "    <tr>\n",
       "      <th>Tea</th>\n",
       "      <td>1435</td>\n",
       "    </tr>\n",
       "    <tr>\n",
       "      <th>Cake</th>\n",
       "      <td>1025</td>\n",
       "    </tr>\n",
       "    <tr>\n",
       "      <th>Pastry</th>\n",
       "      <td>856</td>\n",
       "    </tr>\n",
       "    <tr>\n",
       "      <th>...</th>\n",
       "      <td>...</td>\n",
       "    </tr>\n",
       "    <tr>\n",
       "      <th>Chicken sand</th>\n",
       "      <td>1</td>\n",
       "    </tr>\n",
       "    <tr>\n",
       "      <th>Bacon</th>\n",
       "      <td>1</td>\n",
       "    </tr>\n",
       "    <tr>\n",
       "      <th>Polenta</th>\n",
       "      <td>1</td>\n",
       "    </tr>\n",
       "    <tr>\n",
       "      <th>The BART</th>\n",
       "      <td>1</td>\n",
       "    </tr>\n",
       "    <tr>\n",
       "      <th>Adjustment</th>\n",
       "      <td>1</td>\n",
       "    </tr>\n",
       "  </tbody>\n",
       "</table>\n",
       "<p>95 rows × 1 columns</p>\n",
       "</div>"
      ],
      "text/plain": [
       "              Item\n",
       "Coffee        5471\n",
       "Bread         3325\n",
       "Tea           1435\n",
       "Cake          1025\n",
       "Pastry         856\n",
       "...            ...\n",
       "Chicken sand     1\n",
       "Bacon            1\n",
       "Polenta          1\n",
       "The BART         1\n",
       "Adjustment       1\n",
       "\n",
       "[95 rows x 1 columns]"
      ]
     },
     "execution_count": 150,
     "metadata": {},
     "output_type": "execute_result"
    }
   ],
   "source": [
    "df['Item'].value_counts().sort_values(ascending=False).to_frame()"
   ]
  },
  {
   "cell_type": "code",
   "execution_count": 151,
   "metadata": {},
   "outputs": [
    {
     "name": "stdout",
     "output_type": "stream",
     "text": [
      "Total number of item is 21293\n"
     ]
    }
   ],
   "source": [
    "sums = df['Item'].value_counts().sum()\n",
    "print(f'Total number of item is {sums}')"
   ]
  },
  {
   "cell_type": "markdown",
   "metadata": {},
   "source": [
    "We found that there are **95 distinct products** and the total number of item is 21293, with some items only sold once.\n",
    "\n",
    "Since it is going to be hard to analyze everything, we are going to **focus on the most relevant data, that is the top 10 best-selling products** in the shop"
   ]
  },
  {
   "cell_type": "code",
   "execution_count": 152,
   "metadata": {},
   "outputs": [
    {
     "data": {
      "text/html": [
       "<div>\n",
       "<style scoped>\n",
       "    .dataframe tbody tr th:only-of-type {\n",
       "        vertical-align: middle;\n",
       "    }\n",
       "\n",
       "    .dataframe tbody tr th {\n",
       "        vertical-align: top;\n",
       "    }\n",
       "\n",
       "    .dataframe thead th {\n",
       "        text-align: right;\n",
       "    }\n",
       "</style>\n",
       "<table border=\"1\" class=\"dataframe\">\n",
       "  <thead>\n",
       "    <tr style=\"text-align: right;\">\n",
       "      <th></th>\n",
       "      <th>Item</th>\n",
       "    </tr>\n",
       "  </thead>\n",
       "  <tbody>\n",
       "    <tr>\n",
       "      <th>Coffee</th>\n",
       "      <td>5471</td>\n",
       "    </tr>\n",
       "    <tr>\n",
       "      <th>Bread</th>\n",
       "      <td>3325</td>\n",
       "    </tr>\n",
       "    <tr>\n",
       "      <th>Tea</th>\n",
       "      <td>1435</td>\n",
       "    </tr>\n",
       "    <tr>\n",
       "      <th>Cake</th>\n",
       "      <td>1025</td>\n",
       "    </tr>\n",
       "    <tr>\n",
       "      <th>Pastry</th>\n",
       "      <td>856</td>\n",
       "    </tr>\n",
       "    <tr>\n",
       "      <th>NONE</th>\n",
       "      <td>786</td>\n",
       "    </tr>\n",
       "    <tr>\n",
       "      <th>Sandwich</th>\n",
       "      <td>771</td>\n",
       "    </tr>\n",
       "    <tr>\n",
       "      <th>Medialuna</th>\n",
       "      <td>616</td>\n",
       "    </tr>\n",
       "    <tr>\n",
       "      <th>Hot chocolate</th>\n",
       "      <td>590</td>\n",
       "    </tr>\n",
       "    <tr>\n",
       "      <th>Cookies</th>\n",
       "      <td>540</td>\n",
       "    </tr>\n",
       "  </tbody>\n",
       "</table>\n",
       "</div>"
      ],
      "text/plain": [
       "               Item\n",
       "Coffee         5471\n",
       "Bread          3325\n",
       "Tea            1435\n",
       "Cake           1025\n",
       "Pastry          856\n",
       "NONE            786\n",
       "Sandwich        771\n",
       "Medialuna       616\n",
       "Hot chocolate   590\n",
       "Cookies         540"
      ]
     },
     "execution_count": 152,
     "metadata": {},
     "output_type": "execute_result"
    }
   ],
   "source": [
    "df['Item'].value_counts().sort_values(ascending=False).to_frame().head(10)"
   ]
  },
  {
   "cell_type": "markdown",
   "metadata": {},
   "source": [
    "We found that there is `NONE` item with 786 transactions. Possibly it is because someone cancelled the order after the data was put on the computer. In the next part, we are going to deal with this item.\n",
    "\n",
    "Nevertheless, we can focus our attention to the **top 10 best-selling products** as our most relevant data"
   ]
  },
  {
   "cell_type": "markdown",
   "metadata": {},
   "source": [
    "## 3. Preprocessing\n",
    "\n",
    "Next, we are going to:\n",
    "- clean values from `Item`, by deleting `NONE` transactions and aggregating all remaining transactions (outside top 10) to `Others`\n",
    "- turn the datatype of column `Date` to *datetime64[ns]*"
   ]
  },
  {
   "cell_type": "code",
   "execution_count": 153,
   "metadata": {},
   "outputs": [],
   "source": [
    "df = df[ df['Item'] != 'NONE' ] # deleting entries with 'Item' == 'NONE'"
   ]
  },
  {
   "cell_type": "code",
   "execution_count": 154,
   "metadata": {},
   "outputs": [
    {
     "data": {
      "text/html": [
       "<div>\n",
       "<style scoped>\n",
       "    .dataframe tbody tr th:only-of-type {\n",
       "        vertical-align: middle;\n",
       "    }\n",
       "\n",
       "    .dataframe tbody tr th {\n",
       "        vertical-align: top;\n",
       "    }\n",
       "\n",
       "    .dataframe thead th {\n",
       "        text-align: right;\n",
       "    }\n",
       "</style>\n",
       "<table border=\"1\" class=\"dataframe\">\n",
       "  <thead>\n",
       "    <tr style=\"text-align: right;\">\n",
       "      <th></th>\n",
       "      <th>Item</th>\n",
       "    </tr>\n",
       "  </thead>\n",
       "  <tbody>\n",
       "    <tr>\n",
       "      <th>Coffee</th>\n",
       "      <td>5471</td>\n",
       "    </tr>\n",
       "    <tr>\n",
       "      <th>Bread</th>\n",
       "      <td>3325</td>\n",
       "    </tr>\n",
       "    <tr>\n",
       "      <th>Tea</th>\n",
       "      <td>1435</td>\n",
       "    </tr>\n",
       "    <tr>\n",
       "      <th>Cake</th>\n",
       "      <td>1025</td>\n",
       "    </tr>\n",
       "    <tr>\n",
       "      <th>Pastry</th>\n",
       "      <td>856</td>\n",
       "    </tr>\n",
       "    <tr>\n",
       "      <th>Sandwich</th>\n",
       "      <td>771</td>\n",
       "    </tr>\n",
       "    <tr>\n",
       "      <th>Medialuna</th>\n",
       "      <td>616</td>\n",
       "    </tr>\n",
       "    <tr>\n",
       "      <th>Hot chocolate</th>\n",
       "      <td>590</td>\n",
       "    </tr>\n",
       "    <tr>\n",
       "      <th>Cookies</th>\n",
       "      <td>540</td>\n",
       "    </tr>\n",
       "    <tr>\n",
       "      <th>Brownie</th>\n",
       "      <td>379</td>\n",
       "    </tr>\n",
       "  </tbody>\n",
       "</table>\n",
       "</div>"
      ],
      "text/plain": [
       "               Item\n",
       "Coffee         5471\n",
       "Bread          3325\n",
       "Tea            1435\n",
       "Cake           1025\n",
       "Pastry          856\n",
       "Sandwich        771\n",
       "Medialuna       616\n",
       "Hot chocolate   590\n",
       "Cookies         540\n",
       "Brownie         379"
      ]
     },
     "execution_count": 154,
     "metadata": {},
     "output_type": "execute_result"
    }
   ],
   "source": [
    "df['Item'].value_counts().sort_values(ascending=False).to_frame().head(10)"
   ]
  },
  {
   "cell_type": "markdown",
   "metadata": {},
   "source": [
    "We managed to delete entries with `NONE`, now we are going to aggregate remaining less popular products starting from `Brownie` into one category, `Others`"
   ]
  },
  {
   "cell_type": "code",
   "execution_count": 155,
   "metadata": {},
   "outputs": [
    {
     "data": {
      "text/html": [
       "<div>\n",
       "<style scoped>\n",
       "    .dataframe tbody tr th:only-of-type {\n",
       "        vertical-align: middle;\n",
       "    }\n",
       "\n",
       "    .dataframe tbody tr th {\n",
       "        vertical-align: top;\n",
       "    }\n",
       "\n",
       "    .dataframe thead th {\n",
       "        text-align: right;\n",
       "    }\n",
       "</style>\n",
       "<table border=\"1\" class=\"dataframe\">\n",
       "  <thead>\n",
       "    <tr style=\"text-align: right;\">\n",
       "      <th></th>\n",
       "      <th>Item</th>\n",
       "    </tr>\n",
       "  </thead>\n",
       "  <tbody>\n",
       "    <tr>\n",
       "      <th>Others</th>\n",
       "      <td>5878</td>\n",
       "    </tr>\n",
       "    <tr>\n",
       "      <th>Coffee</th>\n",
       "      <td>5471</td>\n",
       "    </tr>\n",
       "    <tr>\n",
       "      <th>Bread</th>\n",
       "      <td>3325</td>\n",
       "    </tr>\n",
       "    <tr>\n",
       "      <th>Tea</th>\n",
       "      <td>1435</td>\n",
       "    </tr>\n",
       "    <tr>\n",
       "      <th>Cake</th>\n",
       "      <td>1025</td>\n",
       "    </tr>\n",
       "    <tr>\n",
       "      <th>Pastry</th>\n",
       "      <td>856</td>\n",
       "    </tr>\n",
       "    <tr>\n",
       "      <th>Sandwich</th>\n",
       "      <td>771</td>\n",
       "    </tr>\n",
       "    <tr>\n",
       "      <th>Medialuna</th>\n",
       "      <td>616</td>\n",
       "    </tr>\n",
       "    <tr>\n",
       "      <th>Hot chocolate</th>\n",
       "      <td>590</td>\n",
       "    </tr>\n",
       "    <tr>\n",
       "      <th>Cookies</th>\n",
       "      <td>540</td>\n",
       "    </tr>\n",
       "  </tbody>\n",
       "</table>\n",
       "</div>"
      ],
      "text/plain": [
       "               Item\n",
       "Others         5878\n",
       "Coffee         5471\n",
       "Bread          3325\n",
       "Tea            1435\n",
       "Cake           1025\n",
       "Pastry          856\n",
       "Sandwich        771\n",
       "Medialuna       616\n",
       "Hot chocolate   590\n",
       "Cookies         540"
      ]
     },
     "execution_count": 155,
     "metadata": {},
     "output_type": "execute_result"
    }
   ],
   "source": [
    "Item_count = df['Item'].value_counts()\n",
    "other = Item_count[Item_count <= 379 ] # Brownie count is 379\n",
    "df['Item'] = df['Item'].replace(other.index, 'Others')\n",
    "\n",
    "del Item_count\n",
    "\n",
    "df['Item'].value_counts().sort_values(ascending=False).to_frame().head(10)"
   ]
  },
  {
   "cell_type": "markdown",
   "metadata": {},
   "source": [
    "Now, we are going to turn the datatype of column `Date` to *datetime64[ns]* to make it easier to analyze."
   ]
  },
  {
   "cell_type": "code",
   "execution_count": 156,
   "metadata": {},
   "outputs": [],
   "source": [
    "df['Date'] = df['Date'].astype('datetime64[ns]')"
   ]
  },
  {
   "cell_type": "markdown",
   "metadata": {},
   "source": [
    "## 4. Analysis"
   ]
  },
  {
   "cell_type": "markdown",
   "metadata": {},
   "source": [
    "For the analysis, we will start from the most general analysis into the more specific ones.\n",
    "\n",
    "We will focus on determining the *best business plans* from knowing:\n",
    "- top 10 most selling items\n",
    "- trend of total transactions overtime\n",
    "- comparison of sales between days in the week\n",
    "- the busiest hours for the bakery\n",
    "- number of items that are bought in a single transaction\n",
    "- items that are usually bought together"
   ]
  },
  {
   "cell_type": "markdown",
   "metadata": {},
   "source": [
    "### 4.1. Business plan from knowing 10 most selling items\n",
    "\n",
    "Our normalized top 10 most selling items are shown in the barplot below.\n",
    "\n",
    "We can see that`Others` (more than 80 irrelevant items combined) are the most selling items, taking almost one-third of all the transactions. However, it is not easy to determine the specific item that customer will buy at a particular moment. This is because the specific item only contributes less than 2.5% from the total sales.\n",
    "\n",
    "In real business situation, we generally want to *avoid overstocking*. In this case, we want to avoid it especially because *quality of food items decrease overtime*."
   ]
  },
  {
   "cell_type": "code",
   "execution_count": 157,
   "metadata": {
    "hide_input": false
   },
   "outputs": [
    {
     "data": {
      "text/html": [
       "<script>\n",
       "code_show=true; \n",
       "function code_toggle() {\n",
       "    if (code_show){\n",
       "        $('div.cell.code_cell.rendered.selected div.input').hide();\n",
       "    } else {\n",
       "        $('div.cell.code_cell.rendered.selected div.input').show();\n",
       "    }\n",
       "    code_show = !code_show\n",
       "} \n",
       "$( document ).ready(code_toggle);\n",
       "</script>\n",
       "To show/hide this cell's raw code input, click <a href=\"javascript:code_toggle()\">here</a>."
      ],
      "text/plain": [
       "<IPython.core.display.HTML object>"
      ]
     },
     "metadata": {},
     "output_type": "display_data"
    },
    {
     "data": {
      "image/png": "[encoded data removed]",
      "text/plain": [
       "<Figure size 432x288 with 1 Axes>"
      ]
     },
     "metadata": {
      "needs_background": "light"
     },
     "output_type": "display_data"
    }
   ],
   "source": [
    "from IPython.display import HTML\n",
    "from IPython.display import display\n",
    "\n",
    "# Taken from https://stackoverflow.com/questions/31517194/how-to-hide-one-specific-cell-input-or-output-in-ipython-notebook\n",
    "tag = HTML('''<script>\n",
    "code_show=true; \n",
    "function code_toggle() {\n",
    "    if (code_show){\n",
    "        $('div.cell.code_cell.rendered.selected div.input').hide();\n",
    "    } else {\n",
    "        $('div.cell.code_cell.rendered.selected div.input').show();\n",
    "    }\n",
    "    code_show = !code_show\n",
    "} \n",
    "$( document ).ready(code_toggle);\n",
    "</script>\n",
    "To show/hide this cell's raw code input, click <a href=\"javascript:code_toggle()\">here</a>.''')\n",
    "display(tag)\n",
    "\n",
    "############### Write code below ##################\n",
    "\n",
    "fig = df['Item'].value_counts(normalize=True).sort_values().to_frame().plot(kind='barh',\n",
    "                                                              title='Normalized top 10 most-selling items',\n",
    "                                                             grid=True, legend=False)"
   ]
  },
  {
   "cell_type": "markdown",
   "metadata": {},
   "source": [
    "There are two *extreme solutions* to this problem:\n",
    "1. We stop buying items in `Others` and give relevant substitutes to our customer from our top 10 items\n",
    "2. We maximize our customers' satisfaction by keep buying all items in `Others`\n",
    "\n",
    "However, as you can guess, these two solutions are not the best solution. We need to optimize between these options.\n",
    "\n",
    "One way to optimize is by looking at another items in `Others`. For example, take 4 items then consider *their expiration time and adequacy of substitution* from the top 9 items"
   ]
  },
  {
   "cell_type": "code",
   "execution_count": 158,
   "metadata": {
    "hide_input": false
   },
   "outputs": [
    {
     "data": {
      "text/html": [
       "<script>\n",
       "code_show=true; \n",
       "function code_toggle() {\n",
       "    if (code_show){\n",
       "        $('div.cell.code_cell.rendered.selected div.input').hide();\n",
       "    } else {\n",
       "        $('div.cell.code_cell.rendered.selected div.input').show();\n",
       "    }\n",
       "    code_show = !code_show\n",
       "} \n",
       "$( document ).ready(code_toggle);\n",
       "</script>\n",
       "To show/hide this cell's raw code input, click <a href=\"javascript:code_toggle()\">here</a>."
      ],
      "text/plain": [
       "<IPython.core.display.HTML object>"
      ]
     },
     "metadata": {},
     "output_type": "display_data"
    },
    {
     "data": {
      "image/png": "[encoded data removed]",
      "text/plain": [
       "<Figure size 432x288 with 1 Axes>"
      ]
     },
     "metadata": {
      "needs_background": "light"
     },
     "output_type": "display_data"
    }
   ],
   "source": [
    "from IPython.display import HTML\n",
    "from IPython.display import display\n",
    "\n",
    "# Taken from https://stackoverflow.com/questions/31517194/how-to-hide-one-specific-cell-input-or-output-in-ipython-notebook\n",
    "tag = HTML('''<script>\n",
    "code_show=true; \n",
    "function code_toggle() {\n",
    "    if (code_show){\n",
    "        $('div.cell.code_cell.rendered.selected div.input').hide();\n",
    "    } else {\n",
    "        $('div.cell.code_cell.rendered.selected div.input').show();\n",
    "    }\n",
    "    code_show = !code_show\n",
    "} \n",
    "$( document ).ready(code_toggle);\n",
    "</script>\n",
    "To show/hide this cell's raw code input, click <a href=\"javascript:code_toggle()\">here</a>.''')\n",
    "display(tag)\n",
    "\n",
    "############### Write code below ##################\n",
    "\n",
    "other.head(4).div(sums).to_frame().plot(kind='barh', title='Normalized top 4 items in Others', grid=True, legend=False)\n",
    "plt.gca().invert_yaxis()"
   ]
  },
  {
   "cell_type": "markdown",
   "metadata": {},
   "source": [
    "For example, let us look at our top 4 items in `Others`:\n",
    "\n",
    "1. `Brownie`: according to [this source](https://www.marthastewart.com/264302/tips-for-perfect-brownies),\n",
    "\n",
    "> Store cut brownie squares in an airtight container at room temperature; they're best eaten within 1 to 2 days.\n",
    "\n",
    "Thus, it might be not economical to stock `Brownie`, especially because they are *sold less than 2% of the time*. Another strategy is to stock freshly baked `Brownie` everyday and give it a discount after rush hours end (see **Analysis 4.4.**)\n",
    "\n",
    "\n",
    "2. `Farm House`: according to [this source](https://www.bloomberg.com/profile/company/0294374D:LN),\n",
    "\n",
    "> Cornish Farmhouse Frozen Foods Ltd was founded in 1974. The company's line of business includes the wholesale distribution of packaged quick-frozen vegetables, juices, meats, fish, and other deep freeze products.\n",
    "\n",
    "Frozen foods are known to have long expiration date. And so, though the demand was quite low, it is okay to keep `Farm House` food in stock just in case.\n",
    "\n",
    "\n",
    "3. `Muffin`: according to [this source](https://www.stilltasty.com/fooditems/index/17741),\n",
    "\n",
    "> Properly stored, freshly baked muffins will last for about 1 to 2 days at normal room temperature.\n",
    "\n",
    "Thus, it might be better if we can substitute the demand for `Muffin` to other items. Luckily, `Cookie` or `Brownie` can be a good substitute for `Muffin`. Therefore, we can discontinue `Muffin` from the store without losing too many customers.\n",
    "\n",
    "4. `Juice`: We know that `Farm House` distributes packages of frozen juices. Most fruits can go bad quickly so it is better if we substitute `Juice` by using `Farm House` frozen juices.\n",
    "\n",
    "We can continue this analysis for more items in `Others` if we want to"
   ]
  },
  {
   "cell_type": "markdown",
   "metadata": {},
   "source": [
    "### 4.2. Business plan from knowing trend of total transaction overtime\n",
    "\n",
    "Our number of transactions per day is shown below.\n",
    "\n",
    "We can see that *there are no significant increases nor decreases* in the number of transactions. Since we only have less than 6 months of data, it is also unclear whether these systematic ups and downs happen due to season or not.\n",
    "\n",
    "This rather *moderate trend* signifies that our *customers come to our store regularly*, but the *number of customers doesn't increase* either. If this situation happens in our store, it is better to check our marketing methods. It is possible that our **marketing methods were not as effective as it should be and we should focus our resources to reach the market**. For example, we can [develop a first-time customer program](https://www.webstaurantstore.com/article/105/restaurant-marketing.html) to attract new customers."
   ]
  },
  {
   "cell_type": "code",
   "execution_count": 165,
   "metadata": {
    "hide_input": false
   },
   "outputs": [
    {
     "data": {
      "text/html": [
       "<script>\n",
       "code_show=true; \n",
       "function code_toggle() {\n",
       "    if (code_show){\n",
       "        $('div.cell.code_cell.rendered.selected div.input').hide();\n",
       "    } else {\n",
       "        $('div.cell.code_cell.rendered.selected div.input').show();\n",
       "    }\n",
       "    code_show = !code_show\n",
       "} \n",
       "$( document ).ready(code_toggle);\n",
       "</script>\n",
       "To show/hide this cell's raw code input, click <a href=\"javascript:code_toggle()\">here</a>."
      ],
      "text/plain": [
       "<IPython.core.display.HTML object>"
      ]
     },
     "metadata": {},
     "output_type": "display_data"
    },
    {
     "data": {
      "image/png": "[encoded data removed]",
      "text/plain": [
       "<Figure size 432x288 with 1 Axes>"
      ]
     },
     "metadata": {
      "needs_background": "light"
     },
     "output_type": "display_data"
    }
   ],
   "source": [
    "from IPython.display import HTML\n",
    "from IPython.display import display\n",
    "\n",
    "# Taken from https://stackoverflow.com/questions/31517194/how-to-hide-one-specific-cell-input-or-output-in-ipython-notebook\n",
    "tag = HTML('''<script>\n",
    "code_show=true; \n",
    "function code_toggle() {\n",
    "    if (code_show){\n",
    "        $('div.cell.code_cell.rendered.selected div.input').hide();\n",
    "    } else {\n",
    "        $('div.cell.code_cell.rendered.selected div.input').show();\n",
    "    }\n",
    "    code_show = !code_show\n",
    "} \n",
    "$( document ).ready(code_toggle);\n",
    "</script>\n",
    "To show/hide this cell's raw code input, click <a href=\"javascript:code_toggle()\">here</a>.''')\n",
    "display(tag)\n",
    "\n",
    "############### Write code below ##################\n",
    "\n",
    "transaction_time_series = df['Date'].value_counts().to_frame().sort_index()\n",
    "fig = transaction_time_series.plot(kind='line', legend=False, title='Number of Transactions by Date',\n",
    "                                  ylabel='Transactions')\n",
    "fig.set_xlim(pd.Timestamp('2016-10-30'), pd.Timestamp('2017-04-09'))\n",
    "fig.set_ylim(0, 300)\n",
    "plt.show()"
   ]
  },
  {
   "cell_type": "markdown",
   "metadata": {},
   "source": [
    "It is easier to look at the trend by *looking only to the weekdays*:"
   ]
  },
  {
   "cell_type": "code",
   "execution_count": 166,
   "metadata": {
    "hide_input": false
   },
   "outputs": [
    {
     "data": {
      "text/html": [
       "<script>\n",
       "code_show=true; \n",
       "function code_toggle() {\n",
       "    if (code_show){\n",
       "        $('div.cell.code_cell.rendered.selected div.input').hide();\n",
       "    } else {\n",
       "        $('div.cell.code_cell.rendered.selected div.input').show();\n",
       "    }\n",
       "    code_show = !code_show\n",
       "} \n",
       "$( document ).ready(code_toggle);\n",
       "</script>\n",
       "To show/hide this cell's raw code input, click <a href=\"javascript:code_toggle()\">here</a>."
      ],
      "text/plain": [
       "<IPython.core.display.HTML object>"
      ]
     },
     "metadata": {},
     "output_type": "display_data"
    },
    {
     "data": {
      "image/png": "[encoded data removed]",
      "text/plain": [
       "<Figure size 432x288 with 1 Axes>"
      ]
     },
     "metadata": {
      "needs_background": "light"
     },
     "output_type": "display_data"
    }
   ],
   "source": [
    "from IPython.display import HTML\n",
    "from IPython.display import display\n",
    "\n",
    "# Taken from https://stackoverflow.com/questions/31517194/how-to-hide-one-specific-cell-input-or-output-in-ipython-notebook\n",
    "tag = HTML('''<script>\n",
    "code_show=true; \n",
    "function code_toggle() {\n",
    "    if (code_show){\n",
    "        $('div.cell.code_cell.rendered.selected div.input').hide();\n",
    "    } else {\n",
    "        $('div.cell.code_cell.rendered.selected div.input').show();\n",
    "    }\n",
    "    code_show = !code_show\n",
    "} \n",
    "$( document ).ready(code_toggle);\n",
    "</script>\n",
    "To show/hide this cell's raw code input, click <a href=\"javascript:code_toggle()\">here</a>.''')\n",
    "display(tag)\n",
    "\n",
    "############### Write code below ##################\n",
    "\n",
    "transaction_time_series_weekdays = transaction_time_series [ transaction_time_series.index.dayofweek.isin([0,1,2,3,4]) ]\n",
    "transaction_time_series_weekdays = transaction_time_series_weekdays.reset_index()\n",
    "fig = transaction_time_series_weekdays['Date'].plot(kind='line', legend=False, title='Weekdays Transactions by day',\n",
    "                                  ylabel='Transactions')\n",
    "fig.set_xlim(0, 112)\n",
    "fig.set_ylim(0, 300)\n",
    "plt.show()"
   ]
  },
  {
   "cell_type": "markdown",
   "metadata": {
    "hide_input": false
   },
   "source": [
    "### 4.3. Business plan from knowing the comparison of transactions between days in the week\n",
    "\n",
    "Boxplot of transactions grouped by days is shown below.\n",
    "\n",
    "We can see that there are no *significant differences between weekdays except for Fridays*. Most likely it happens because Fridays come before weekends and many people spend their money for snacks at Fridays. Therefore, we need to **increase our stock on Fridays compared to other weekdays**.\n",
    "\n",
    "Weekends are good opportunity to increase our sales because we can see that there are *more transactions per day on Weekends compared to weekdays*. Also, we can see that *Saturdays have the highest average transactions per day* of all. However, we need to take account of the spread for a particular day. For example, although Saturdays have the highest average sales per day, *Saturdays also have the widest spread for transactions per day* of all. **These spread may cause our transactions prediction to be inaccurate and some items left unpurchased**.\n",
    "\n",
    "There are, again, two extreme approaches to this problem:\n",
    "1. *Cautious approach*: we make a safer choice by **setting items equal to the median**\n",
    "2. *Risk taker approach*: we take risks by producing items **more than the median sales by adding a fraction of spread** (measured by interquartile range) on that specific day\n",
    "\n",
    "Since our bakery will be doing some marketing from now on (from previous **Analysis 4.2.**), it is **generally better to take some risk**."
   ]
  },
  {
   "cell_type": "code",
   "execution_count": 167,
   "metadata": {
    "hide_input": false
   },
   "outputs": [
    {
     "data": {
      "text/html": [
       "<script>\n",
       "code_show=true; \n",
       "function code_toggle() {\n",
       "    if (code_show){\n",
       "        $('div.cell.code_cell.rendered.selected div.input').hide();\n",
       "    } else {\n",
       "        $('div.cell.code_cell.rendered.selected div.input').show();\n",
       "    }\n",
       "    code_show = !code_show\n",
       "} \n",
       "$( document ).ready(code_toggle);\n",
       "</script>\n",
       "To show/hide this cell's raw code input, click <a href=\"javascript:code_toggle()\">here</a>."
      ],
      "text/plain": [
       "<IPython.core.display.HTML object>"
      ]
     },
     "metadata": {},
     "output_type": "display_data"
    },
    {
     "data": {
      "image/png": "[encoded data removed]",
      "text/plain": [
       "<Figure size 432x288 with 1 Axes>"
      ]
     },
     "metadata": {
      "needs_background": "light"
     },
     "output_type": "display_data"
    }
   ],
   "source": [
    "from IPython.display import HTML\n",
    "from IPython.display import display\n",
    "\n",
    "# Taken from https://stackoverflow.com/questions/31517194/how-to-hide-one-specific-cell-input-or-output-in-ipython-notebook\n",
    "tag = HTML('''<script>\n",
    "code_show=true; \n",
    "function code_toggle() {\n",
    "    if (code_show){\n",
    "        $('div.cell.code_cell.rendered.selected div.input').hide();\n",
    "    } else {\n",
    "        $('div.cell.code_cell.rendered.selected div.input').show();\n",
    "    }\n",
    "    code_show = !code_show\n",
    "} \n",
    "$( document ).ready(code_toggle);\n",
    "</script>\n",
    "To show/hide this cell's raw code input, click <a href=\"javascript:code_toggle()\">here</a>.''')\n",
    "display(tag)\n",
    "\n",
    "############### Write code below ##################\n",
    "\n",
    "transaction_time_series['Days'] = transaction_time_series.index.dayofweek\n",
    "transaction_per_day = transaction_time_series.set_index('Days')\n",
    "transaction_per_day = transaction_per_day.rename(columns={'Date':'Transaction'})\n",
    "transaction_per_day = transaction_per_day.reset_index()\n",
    "fig = transaction_per_day.boxplot(by='Days', column=['Transaction'])\n",
    "plt.title('')\n",
    "plt.xticks([1,2,3,4,5,6,7], ['Mon', 'Tue', 'Wed', 'Thu', 'Fri', 'Sat', 'Sun'])\n",
    "plt.ylabel('Transactions')\n",
    "plt.show()"
   ]
  },
  {
   "cell_type": "markdown",
   "metadata": {
    "hide_input": false
   },
   "source": [
    "### 4.4. Business plan from knowing the busiest hours in the bakery\n",
    "\n",
    "Histogram of transactions grouped by time of the day is shown below.\n",
    "\n",
    "We can see that most transactions happen between 7 a.m. to 5 p.m. Also, there are few transactions happen after 7 p.m. From this information, we can optimize our work hours. For example, we can **close our store earlier at around 7 p.m. without losing too many customers**.\n",
    "\n",
    "I also mentioned about giving discounts after rush hours in **Analysis 4.1.** From knowing the transaction hours, we can give discounts to items with shorter expiration dates after the rush hours. It is important to *avoid giving discounts in rush hours* because we might lose some revenue. In this case, we can try **putting discounts for short-lived items** (e.g. `Bread`, `Pastry`, `Brownie`) **after 5 p.m**. This way, we can also attract another type of customers (the *discount hunters*) that usually don't buy items in our store.\n",
    "\n",
    "Lastly, it is important to know that the peak of rush hours happen in around 11 a.m. If our marketing plan from **Analysis 4.2.** succeed, **it is possible that situation in the store around 11 a.m. gets very busy and we might need to hire part-time staffs from 11 a.m. to 3 p.m.**"
   ]
  },
  {
   "cell_type": "code",
   "execution_count": 168,
   "metadata": {
    "hide_input": false
   },
   "outputs": [
    {
     "data": {
      "text/html": [
       "<script>\n",
       "code_show=true; \n",
       "function code_toggle() {\n",
       "    if (code_show){\n",
       "        $('div.cell.code_cell.rendered.selected div.input').hide();\n",
       "    } else {\n",
       "        $('div.cell.code_cell.rendered.selected div.input').show();\n",
       "    }\n",
       "    code_show = !code_show\n",
       "} \n",
       "$( document ).ready(code_toggle);\n",
       "</script>\n",
       "To show/hide this cell's raw code input, click <a href=\"javascript:code_toggle()\">here</a>."
      ],
      "text/plain": [
       "<IPython.core.display.HTML object>"
      ]
     },
     "metadata": {},
     "output_type": "display_data"
    },
    {
     "data": {
      "image/png": "[encoded data removed]",
      "text/plain": [
       "<Figure size 432x288 with 1 Axes>"
      ]
     },
     "metadata": {
      "needs_background": "light"
     },
     "output_type": "display_data"
    }
   ],
   "source": [
    "from IPython.display import HTML\n",
    "from IPython.display import display\n",
    "\n",
    "# Taken from https://stackoverflow.com/questions/31517194/how-to-hide-one-specific-cell-input-or-output-in-ipython-notebook\n",
    "tag = HTML('''<script>\n",
    "code_show=true; \n",
    "function code_toggle() {\n",
    "    if (code_show){\n",
    "        $('div.cell.code_cell.rendered.selected div.input').hide();\n",
    "    } else {\n",
    "        $('div.cell.code_cell.rendered.selected div.input').show();\n",
    "    }\n",
    "    code_show = !code_show\n",
    "} \n",
    "$( document ).ready(code_toggle);\n",
    "</script>\n",
    "To show/hide this cell's raw code input, click <a href=\"javascript:code_toggle()\">here</a>.''')\n",
    "display(tag)\n",
    "\n",
    "############### Write code below ##################\n",
    "\n",
    "import matplotlib.colors as colors\n",
    "import matplotlib.dates as mdates\n",
    "timehist = pd.to_datetime(df['Time'],format=\"%H:%M:%S\")\n",
    "fig, ax = plt.subplots(1,1)\n",
    "#create histogram, get bin position for label\n",
    "N, bins, patches = ax.hist(timehist, bins = 11, facecolor='blue')\n",
    "# Setting color\n",
    "fracs = ((N**(1 / 5)) / N.max())\n",
    "norm = colors.Normalize(fracs.min(), fracs.max())\n",
    " \n",
    "for thisfrac, thispatch in zip(fracs, patches):\n",
    "    color = plt.cm.RdBu(norm(thisfrac))\n",
    "    thispatch.set_facecolor(color)\n",
    "#set xticks at bin edges\n",
    "plt.xticks(bins)\n",
    "ax.xaxis.set_major_formatter(mdates.DateFormatter(\"%H\"))\n",
    "ax.grid(b = True, color ='grey',\n",
    "        linestyle ='-.', linewidth = 0.5,\n",
    "        alpha = 0.8)\n",
    "plt.xlim(pd.to_datetime(-2208985200, unit='s'), pd.to_datetime(-2208906000, unit='s'))\n",
    "plt.title('Transactions by time of the day')\n",
    "plt.ylabel('Transactions')\n",
    "plt.xlabel('Hour')\n",
    "plt.show()"
   ]
  },
  {
   "cell_type": "markdown",
   "metadata": {
    "hide_input": false
   },
   "source": [
    "### 4.5. Business plan from knowing number of items bought in single transactions\n",
    "\n",
    "Number of items in one transaction and a more detailed stacked barplot is shown below.\n",
    "\n",
    "We can see that the most frequent number of items sold in one transaction is one. This is not good for various reasons. The first reason is *we miss the opportunity of getting more revenue from one transaction*, here's why. Generally most people need to eat and drink, so it is quite unusual to buy any food without buying any beverage or vice versa. We can **encourage those people who only buy one item in a transaction to spend more by making food and beverage combination discounts**. That way, we can get more revenue from the same person. However, we need to watch out because *food and beverage combinations are the most popular combination if someone buys two items in one transaction*. We need to manage the amount of discount so we get more revenue in total.\n",
    "\n",
    "That *food and beverage combination discount will also be effective for the exact same reason*. Since most of our customers who buy more than one item generally buy food and beverage, **our appropriate promotion should make them more happy and hence increases their loyalty to our store**.\n",
    "\n",
    "We can also see that *only a little fraction of our transaction has more than three items*. Generally this means it is **quite unusual for a family to visit our store**. This insight can be used when we are evaluating and thinking about marketing strategies from **Analysis 4.2.** For example, **we can create packages and discounts for families**. That way, we can increase transactions that have more number of items.\n",
    "\n",
    "Curiously, for two and three items in one transaction, *combination of beverage and others are unexpectedly high*. We remember that we determined `Others` quite arbitrarily by aggregating non-top 9 items. It is quite easy to include more items before aggregating the remaining items into `Others`. However, we will not pursue it any further for now. Just keep in mind that *we can always include more items in our pre-processing steps*."
   ]
  },
  {
   "cell_type": "code",
   "execution_count": 169,
   "metadata": {
    "hide_input": false
   },
   "outputs": [
    {
     "data": {
      "text/html": [
       "<script>\n",
       "code_show=true; \n",
       "function code_toggle() {\n",
       "    if (code_show){\n",
       "        $('div.cell.code_cell.rendered.selected div.input').hide();\n",
       "    } else {\n",
       "        $('div.cell.code_cell.rendered.selected div.input').show();\n",
       "    }\n",
       "    code_show = !code_show\n",
       "} \n",
       "$( document ).ready(code_toggle);\n",
       "</script>\n",
       "To show/hide this cell's raw code input, click <a href=\"javascript:code_toggle()\">here</a>."
      ],
      "text/plain": [
       "<IPython.core.display.HTML object>"
      ]
     },
     "metadata": {},
     "output_type": "display_data"
    },
    {
     "data": {
      "image/png": "[encoded data removed]",
      "text/plain": [
       "<Figure size 432x288 with 1 Axes>"
      ]
     },
     "metadata": {
      "needs_background": "light"
     },
     "output_type": "display_data"
    }
   ],
   "source": [
    "from IPython.display import HTML\n",
    "from IPython.display import display\n",
    "\n",
    "# Taken from https://stackoverflow.com/questions/31517194/how-to-hide-one-specific-cell-input-or-output-in-ipython-notebook\n",
    "tag = HTML('''<script>\n",
    "code_show=true; \n",
    "function code_toggle() {\n",
    "    if (code_show){\n",
    "        $('div.cell.code_cell.rendered.selected div.input').hide();\n",
    "    } else {\n",
    "        $('div.cell.code_cell.rendered.selected div.input').show();\n",
    "    }\n",
    "    code_show = !code_show\n",
    "} \n",
    "$( document ).ready(code_toggle);\n",
    "</script>\n",
    "To show/hide this cell's raw code input, click <a href=\"javascript:code_toggle()\">here</a>.''')\n",
    "display(tag)\n",
    "\n",
    "############### Write code below ##################\n",
    "\n",
    "count_transaction = df.groupby(['Transaction']).cumcount() + 1\n",
    "counts = count_transaction.to_frame().value_counts().to_numpy()\n",
    "\n",
    "plt.bar(['1','2','3','>3'], [counts[0]-counts[1], counts[1]-counts[2],\n",
    "                                  counts[2]-counts[3], counts[3]])\n",
    "plt.title('Number of items in one Transaction')\n",
    "plt.ylabel('Frequency')\n",
    "plt.xlabel('Number of items')\n",
    "plt.show()"
   ]
  },
  {
   "cell_type": "code",
   "execution_count": 170,
   "metadata": {
    "hide_input": false
   },
   "outputs": [
    {
     "data": {
      "text/html": [
       "<script>\n",
       "code_show=true; \n",
       "function code_toggle() {\n",
       "    if (code_show){\n",
       "        $('div.cell.code_cell.rendered.selected div.input').hide();\n",
       "    } else {\n",
       "        $('div.cell.code_cell.rendered.selected div.input').show();\n",
       "    }\n",
       "    code_show = !code_show\n",
       "} \n",
       "$( document ).ready(code_toggle);\n",
       "</script>\n",
       "To show/hide this cell's raw code input, click <a href=\"javascript:code_toggle()\">here</a>."
      ],
      "text/plain": [
       "<IPython.core.display.HTML object>"
      ]
     },
     "metadata": {},
     "output_type": "display_data"
    },
    {
     "data": {
      "image/png": "[encoded data removed]",
      "text/plain": [
       "<Figure size 1080x432 with 1 Axes>"
      ]
     },
     "metadata": {
      "needs_background": "light"
     },
     "output_type": "display_data"
    }
   ],
   "source": [
    "from IPython.display import HTML\n",
    "from IPython.display import display\n",
    "\n",
    "# Taken from https://stackoverflow.com/questions/31517194/how-to-hide-one-specific-cell-input-or-output-in-ipython-notebook\n",
    "tag = HTML('''<script>\n",
    "code_show=true; \n",
    "function code_toggle() {\n",
    "    if (code_show){\n",
    "        $('div.cell.code_cell.rendered.selected div.input').hide();\n",
    "    } else {\n",
    "        $('div.cell.code_cell.rendered.selected div.input').show();\n",
    "    }\n",
    "    code_show = !code_show\n",
    "} \n",
    "$( document ).ready(code_toggle);\n",
    "</script>\n",
    "To show/hide this cell's raw code input, click <a href=\"javascript:code_toggle()\">here</a>.''')\n",
    "display(tag)\n",
    "\n",
    "############### Write code below ##################\n",
    "\n",
    "item_map = {'Coffee':3, 'Bread':2, 'Tea':3,\n",
    "           'Cake':2, 'Pastry':2, 'Sandwich':2,\n",
    "           'Medialuna':2, 'Hot chocolate':3, 'Cookies':2, 'Others':5}\n",
    "df['mapped'] = df[['Item']].applymap(item_map.get)\n",
    "trans_map = df.groupby('Transaction')['mapped'].prod().value_counts()\n",
    "\n",
    "labels = ['1','2','3']\n",
    "beverage_only = np.array([trans_map.loc[3], trans_map.loc[9], trans_map.loc[27]])\n",
    "food_only = np.array([trans_map.loc[2], trans_map.loc[4], trans_map.loc[8]])\n",
    "food_beverage_mixed = np.array([0, trans_map.loc[6], trans_map.loc[12]+trans_map.loc[18]])\n",
    "others_only = np.array([trans_map.loc[5], trans_map.loc[25], trans_map.loc[125]])\n",
    "food_others_mixed = np.array([0, trans_map.loc[10], trans_map.loc[20]+trans_map.loc[50]])\n",
    "beverage_others_mixed = np.array([0, trans_map.loc[15], trans_map.loc[45]+trans_map.loc[75]])\n",
    "food_beverage_others = np.array([0, 0, trans_map.loc[30]])\n",
    "width = 0.35\n",
    "\n",
    "plt.figure(figsize=(15,6))\n",
    "plt.bar(labels, food_beverage_mixed, width, label='Food & Beverage')\n",
    "plt.bar(labels, food_only, width, bottom=food_beverage_mixed, label='Food only')\n",
    "plt.bar(labels, beverage_only, width, bottom=food_only+food_beverage_mixed, label='Beverage only')\n",
    "plt.bar(labels, food_others_mixed, width, bottom=food_only+food_beverage_mixed+beverage_only,\n",
    "        label='Food & Others')\n",
    "plt.bar(labels, beverage_others_mixed, width, bottom=food_only+food_beverage_mixed+beverage_only+food_others_mixed,\n",
    "        label='Beverage & Others')\n",
    "plt.bar(labels, food_beverage_others, width, bottom=food_only+food_beverage_mixed+beverage_only+food_others_mixed+beverage_others_mixed,\n",
    "        label='Food & Beverage & Others')\n",
    "plt.bar(labels, others_only, width, bottom=food_beverage_others+food_only+food_beverage_mixed+beverage_only+food_others_mixed+beverage_others_mixed,\n",
    "        label='Others only')\n",
    "\n",
    "plt.xlabel('Number of items')\n",
    "plt.ylabel('Frequency')\n",
    "plt.title('Grouped Items in one Transaction')\n",
    "plt.legend()\n",
    "\n",
    "plt.show()"
   ]
  },
  {
   "cell_type": "markdown",
   "metadata": {},
   "source": [
    "### 4.6. Business plan from knowing items that are generally bought together\n",
    "\n",
    "Let's take a closer look for Food \\& Beverage combination when two items are bought at the same time. This is a more detailed view on bottom bar for two items in one transaction from the upper figure.\n",
    "\n",
    "As expected, `Bread`-`Coffee` *combination is the most frequent combination of all*. However, it's not preferable to give discount to that particular combination since it will reduce our profit. Generally, *it's better to pair our popular products with less popular ones*. For example, we can see in the figure below that `Bread` (our most popular food) can go quite well with `Tea`, while `Coffee` (our most popular beverage) can go quite well with `Cookies`. Therefore, **it is a viable option to give discounts to Bread-Tea and Coffee-Cookies combination**. This way, as mentioned in **Analysis 4.5.**, we hope to *reduce single-item-purchase in one transaction by encouraging them to spend more on discounted combinations* and get more revenue from the customers."
   ]
  },
  {
   "cell_type": "code",
   "execution_count": 171,
   "metadata": {
    "hide_input": false
   },
   "outputs": [
    {
     "data": {
      "text/html": [
       "<script>\n",
       "code_show=true; \n",
       "function code_toggle() {\n",
       "    if (code_show){\n",
       "        $('div.cell.code_cell.rendered.selected div.input').hide();\n",
       "    } else {\n",
       "        $('div.cell.code_cell.rendered.selected div.input').show();\n",
       "    }\n",
       "    code_show = !code_show\n",
       "} \n",
       "$( document ).ready(code_toggle);\n",
       "</script>\n",
       "To show/hide this cell's raw code input, click <a href=\"javascript:code_toggle()\">here</a>."
      ],
      "text/plain": [
       "<IPython.core.display.HTML object>"
      ]
     },
     "metadata": {},
     "output_type": "display_data"
    },
    {
     "data": {
      "image/png": "[encoded data removed]",
      "text/plain": [
       "<Figure size 1080x432 with 1 Axes>"
      ]
     },
     "metadata": {
      "needs_background": "light"
     },
     "output_type": "display_data"
    }
   ],
   "source": [
    "from IPython.display import HTML\n",
    "from IPython.display import display\n",
    "\n",
    "# Taken from https://stackoverflow.com/questions/31517194/how-to-hide-one-specific-cell-input-or-output-in-ipython-notebook\n",
    "tag = HTML('''<script>\n",
    "code_show=true; \n",
    "function code_toggle() {\n",
    "    if (code_show){\n",
    "        $('div.cell.code_cell.rendered.selected div.input').hide();\n",
    "    } else {\n",
    "        $('div.cell.code_cell.rendered.selected div.input').show();\n",
    "    }\n",
    "    code_show = !code_show\n",
    "} \n",
    "$( document ).ready(code_toggle);\n",
    "</script>\n",
    "To show/hide this cell's raw code input, click <a href=\"javascript:code_toggle()\">here</a>.''')\n",
    "display(tag)\n",
    "\n",
    "############### Write code below ##################\n",
    "\n",
    "from collections import Counter\n",
    "\n",
    "group = []\n",
    "food_beverage_group_pre = []\n",
    "food_beverage_group = []\n",
    "\n",
    "groups = df.groupby('Transaction')['Item'].agg(list).to_frame()\n",
    "for i in groups['Item']:\n",
    "    member = list(dict.fromkeys(i))\n",
    "    group.append(member)\n",
    "    \n",
    "trans_group = df.groupby('Transaction')['mapped'].prod()\n",
    "for i in range(len(trans_group)):\n",
    "    if trans_group.iloc[i] == 6:\n",
    "        food_beverage_group_pre.append(group[i])\n",
    "\n",
    "for t in food_beverage_group_pre:\n",
    "    t.sort()\n",
    "    food_beverage_group.append(', '.join(map(str, t)))\n",
    "    \n",
    "food_beverage_occurence = dict(Counter(food_beverage_group))\n",
    "\n",
    "del food_beverage_group_pre\n",
    "del food_beverage_group\n",
    "\n",
    "food_beverage_occurence = pd.DataFrame.from_dict(food_beverage_occurence, orient='index', columns=['occurence'])\n",
    "food_beverage_occurence.div(trans_map.loc[6]).sort_values('occurence').plot(kind='barh', figsize=(15,6), grid=True)\n",
    "plt.title('Food and Beverage for 2 items in one Transaction, Normalized')\n",
    "plt.legend(['Occurences in fraction'], loc='lower right')\n",
    "plt.show()"
   ]
  },
  {
   "cell_type": "markdown",
   "metadata": {
    "hide_input": false
   },
   "source": [
    "## 5. Conclusion\n",
    "\n",
    "By analyzing the dataset, we conclude that the *best business plans* for this bakery are:\n",
    "1. We focus on keeping top 9 best-selling products and products with longer lifespan. Items that have shorter lifespan will be discounted after rush hours at 5 p.m.\n",
    "2. We will evaluate and generate new marketing plan to attract more segments of customers. One possible marketing strategy is to implement first-time customer program.\n",
    "3. We need to prepare more items on Fridays, Sundays, and especially Saturdays. Also, It is better to go with risk-taker approach by preparing more items in the store every day, since we are going to do some serious marketing from now on.\n",
    "4. We need to prepare for rush hours from 7 a.m. to 5 p.m., especially 9 a.m. to 3 p.m.\n",
    "5. We can optimize our bakery sales by making Food \\& Beverage dicounts, e.g. for Bread-Tea and Coffee-Cookies combination. Also, we should consider making family packages and discounts."
   ]
  }
 ],
 "metadata": {
  "kernelspec": {
   "display_name": "Python 3",
   "language": "python",
   "name": "python3"
  },
  "language_info": {
   "codemirror_mode": {
    "name": "ipython",
    "version": 3
   },
   "file_extension": ".py",
   "mimetype": "text/x-python",
   "name": "python",
   "nbconvert_exporter": "python",
   "pygments_lexer": "ipython3",
   "version": "3.8.5"
  }
 },
 "nbformat": 4,
 "nbformat_minor": 4
}
